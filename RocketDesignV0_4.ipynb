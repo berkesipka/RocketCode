{
 "cells": [
  {
   "cell_type": "markdown",
   "metadata": {},
   "source": [
    "# Rocket Calculations Software"
   ]
  },
  {
   "cell_type": "markdown",
   "metadata": {},
   "source": [
    "#### Written by Brendan"
   ]
  },
  {
   "cell_type": "code",
   "execution_count": 1,
   "metadata": {},
   "outputs": [],
   "source": [
    "import matplotlib.pyplot as plt\n",
    "import numpy as np\n",
    "import pandas as pd\n",
    "import ipywidgets as widgets\n",
    "import time\n",
    "import math\n",
    "from IPython.display import display"
   ]
  },
  {
   "cell_type": "code",
   "execution_count": 2,
   "metadata": {},
   "outputs": [],
   "source": [
    "SIAltTable=[i*1000 for i in [0,1,3,5,10,25,50,75,100,130,160,200,300,400,600,1000]]\n",
    "SITempTable=[288.15,281.651,268.65,255.65,223.252,221.552,270.65,206.65,195.08,469.27,696.29,845.56,976.01,995.83,999.85,1000]\n",
    "SIPressTable=[i*101325 for i in [1,0.887,0.66919,0.53313,0.26151,0.025158,0.00078735,0.000020408,0.00000031593,1.2341e-8,2.9997e-9,8.3628e-10,8.6557e-11,1.4328e-11,8.1056e-13,7.4155e-14]]\n",
    "USAltTable=[i*3.28084 for i in SIAltTable]\n",
    "USTempTable=[i*1.8 for i in SITempTable]\n",
    "USPressTable=[i*0.020885434273039 for i in SIPressTable]\n",
    "\n",
    "AltTable=SIAltTable\n",
    "TempTable=SITempTable\n",
    "PressTable=SIPressTable\n",
    "\n",
    "def ChangeUnits(change):\n",
    "    \n",
    "    global AltTable\n",
    "    global TempTable\n",
    "    global PressTable\n",
    "    global GasConstant\n",
    "    \n",
    "    if (Units_Select.value == 'Metric'): \n",
    "        gravity.value=9.81\n",
    "        AltTable=SIAltTable\n",
    "        TempTable=SITempTable\n",
    "        PressTable=SIPressTable\n",
    "        Alt_Select.options=AltTable\n",
    "\n",
    "    elif (Units_Select.value == 'Imperial'):\n",
    "        gravity.value=32.17\n",
    "        AltTable=USAltTable\n",
    "        TempTable=USTempTable\n",
    "        PressTable=USPressTable\n",
    "        Alt_Select.options=AltTable\n",
    "                                  \n",
    "    else:\n",
    "        print('ERROR')\n",
    "    \n",
    "%run RocketEquations.py\n",
    "\n"
   ]
  },
  {
   "cell_type": "markdown",
   "metadata": {},
   "source": [
    "## Homework Code"
   ]
  },
  {
   "cell_type": "code",
   "execution_count": 3,
   "metadata": {},
   "outputs": [],
   "source": [
    "# homework 3\n",
    "homework3 = widgets.Button(description=\"Homework 3\")\n",
    "outputhw3 = widgets.Output()\n",
    "def hw3(b):\n",
    "    with outputhw3:\n",
    "        print('\\n~~~~~~~~~~~~~~~~~~~~~~~')\n",
    "        print('~ Homework 3 Results: ~')\n",
    "        print('~~~~~~~~~~~~~~~~~~~~~~~\\n')\n",
    "        po=ChamberP(PressTable[AltTable.index(Alt_Select.value)],SpecificHeatRatio.value,ExitMach.value)\n",
    "        print('Chamber Pressure: ','{0:.0f}'.format(po),' (Pa)')\n",
    "        ER=ExpansionRatio(SpecificHeatRatio.value,ExitMach.value)\n",
    "        print('Nozzle Area Ratio: ','{0:.3f}'.format(ER),' (~)')\n",
    "\n",
    "homework3.on_click(hw3)\n",
    "\n",
    "\n",
    "# homework 4\n",
    "homework4 = widgets.Button(description=\"Homework 4\")\n",
    "outputhw4 = widgets.Output()\n",
    "def hw4(b):\n",
    "    with outputhw4:\n",
    "        \n",
    "        print('Plot 3-1\\n')\n",
    "        k=1.2\n",
    "        M=np.arange(0.1,10.1,0.001)\n",
    "        PPo=PressureRatio(k,M)\n",
    "        TTo=TempRatio(k,M)\n",
    "        AR=ExpansionRatio(k,M)\n",
    "        \n",
    "        color='tab:red'\n",
    "        fig,ax1=plt.subplots()\n",
    "        plt.xscale('log')\n",
    "        plt.yscale('log')\n",
    "        ax1.set_xlabel('Mach Number')\n",
    "        ax1.set_ylabel('Pressure and Temperature Ratios', color=color)\n",
    "        pressline=ax1.plot(M,PPo,color='tab:orange', label=\"p/po\")\n",
    "        templine=ax1.plot(M,TTo,color='tab:purple', label=\"T/To\")\n",
    "        ax1.tick_params(axis='y', labelcolor=color)\n",
    "        ax1.set_ylim([0.01,5])\n",
    "        plt.xlabel('Mach Number')\n",
    "        plt.legend(bbox_to_anchor=(1.05, 1), loc='upper left', borderaxespad=0.)\n",
    "        ax2=ax1.twinx()  \n",
    "\n",
    "        plt.xscale('log')\n",
    "        plt.yscale('log')\n",
    "        color='tab:blue'\n",
    "        ax2.set_ylabel('Area Ratio', color=color)  \n",
    "        arealine=ax2.plot(M,AR,color=color, label='A/At')\n",
    "        ax2.tick_params(axis='y', labelcolor=color)\n",
    "        ax2.set_ylim([1.0,500])\n",
    "        plt.xlim(0.10,10)\n",
    "        plt.title('Area Ratio, Pressure Ratio, and Temperature Ratio as a Function of Mach Number\\n')\n",
    "        fig.tight_layout()  \n",
    "        plt.legend(bbox_to_anchor=(1.05, 1), loc='lower left', borderaxespad=0.)\n",
    "        plt.show() \n",
    "        \n",
    "        print('Plot 3-2\\n')\n",
    "        \n",
    "        \n",
    "        k=1.3\n",
    "        PPo1=40.0\n",
    "        PPo2=20.0\n",
    "        ToM=np.arange(70.0,280.1,0.1)\n",
    "        R=1545\n",
    "        V1=(((2*k*32.2)/(k-1))*R*ToM*(1-((PPo1)**-1)**((k-1)/k)))**(1/2)\n",
    "        V2=(((2*k*32.2)/(k-1))*R*ToM*(1-((PPo2)**-1)**((k-1)/k)))**(1/2)\n",
    "        gc=32.2\n",
    "        \n",
    "        fig,ax1=plt.subplots()\n",
    "        color='tab:green'\n",
    "        ax1.set_xlabel('T1/M (R-lb-mol/lbm)')\n",
    "        ax1.set_ylabel('Ideal Specific Impulse (s)')\n",
    "        ax1.plot(ToM,SpecificImpulseV(V1,gc),color=color,label='p1/p2=40')\n",
    "        ax1.set_ylim([120,280])\n",
    "        plt.xlabel('T1/M (R-lb-mol/lbm)')\n",
    "        plt.legend(bbox_to_anchor=(1.15, 1), loc='upper left', borderaxespad=0.)\n",
    "        ax2=ax1.twinx()  \n",
    "\n",
    "        color='tab:orange'\n",
    "        ax2.set_ylabel('Ideal Exhaust Velocity (ft/sec)')  \n",
    "        ax2.plot(ToM,V2,color=color,label='p1/p2=20')\n",
    "        ax2.set_ylim([3900, 9050])\n",
    "        plt.xlim(70,280)\n",
    "        plt.title('Isp and Ideal Ve With Respect to T1/M for p1/p2 of 20 and 40\\n\\n')\n",
    "        fig.tight_layout() \n",
    "        plt.legend(bbox_to_anchor=(1.15, 1), loc='lower left', borderaxespad=0.)\n",
    "        plt.show()          \n",
    "        \n",
    "        \n",
    "\n",
    "homework4.on_click(hw4)\n",
    "\n",
    "\n",
    "# homework 5\n",
    "homework5 = widgets.Button(description=\"Homework 5\")\n",
    "outputhw5 = widgets.Output()\n",
    "def hw5(b):\n",
    "    with outputhw5:\n",
    "        \n",
    "        print('Plot 3-5')\n",
    "        \n",
    "        k=1.20\n",
    "        Epsln=50\n",
    "        p1p2=np.arange(10.0,10000.1,0.1)\n",
    "        p2p1=p1p2**-1\n",
    "        Cf=CfIdeal(k,p2p1)\n",
    "        \n",
    "        \n",
    "        Cfcoords=[]\n",
    "        Pcoords=[]\n",
    "        \n",
    "        for K in(1.1,1.2,1.25,1.3,1.4):\n",
    "            AR=AreaRatio(K,p2p1)\n",
    "            AR=AR.tolist()\n",
    "            Cfcoords.append(CfIdeal(K,p2p1[AR.index(FindEpsln(AR,50))]))\n",
    "            \n",
    "        for K in(1.1,1.2,1.25,1.3,1.4):\n",
    "            AR=AreaRatio(K,p2p1)\n",
    "            AR=AR.tolist()\n",
    "            Pcoords.append(p1p2[AR.index(FindEpsln(AR,50))])\n",
    "        \n",
    "        plt.xlabel('p1/p2')\n",
    "        plt.ylabel('Cf')\n",
    "        plt.plot(p1p2,Cf, color='tab:blue',label='k=1.20')\n",
    "        plt.plot(Pcoords,Cfcoords,color='tab:red',label='Epsilon=50')\n",
    "        plt.xlim([10,10000])\n",
    "        plt.xscale('log')\n",
    "        plt.ylim([1.2,2.3])\n",
    "        plt.title('Coefficient of Thrust @ k=1.20 vs. p1/p2 Intersecting Epsilon=50\\n')\n",
    "        plt.legend(bbox_to_anchor=(1.06, 1), loc='upper left', borderaxespad=0.)\n",
    "        plt.show()\n",
    "        \n",
    "homework5.on_click(hw5)\n",
    "\n",
    "\n",
    "# homework 6\n",
    "homework6 = widgets.Button(description=\"Homework 6\")\n",
    "outputhw6 = widgets.Output()\n",
    "def hw6(b):\n",
    "    with outputhw6:\n",
    "        p3=SIPressTable[SIAltTable.index(25000)]\n",
    "        t3=SITempTable[SIAltTable.index(25000)]\n",
    "        F=5000\n",
    "        p1=2.039e6\n",
    "        t1=2800\n",
    "        k=1.20\n",
    "        R=360\n",
    "        p2=p3\n",
    "        p2p1=p2/p1\n",
    "        AR=(AreaRatio(k,p2p1))**-1\n",
    "        Tt=(2*t1)/(k+1)\n",
    "        v2=ExhaustVMet(k,R,t1,p2p1)\n",
    "        mdot=MassFlow(F,v2)\n",
    "        At=ThroatArea(mdot,p1,R,t1,k)\n",
    "        Ae=At/AR\n",
    "        \n",
    "        print('Throat Area: ','{0:.4f}'.format(At),' (m^2)\\n')\n",
    "        print('Exit Area: ','{0:.4f}'.format(Ae),' (m^2)\\n')\n",
    "        print('Throat Temperature: ','{0:.1f}'.format(Tt),' (K)\\n')\n",
    "        print('Exit Velocity: ','{0:.1f}'.format(v2),' (m/s)\\n')\n",
    "        \n",
    "        \n",
    "        \n",
    "        \n",
    "\n",
    "homework6.on_click(hw6)"
   ]
  },
  {
   "cell_type": "markdown",
   "metadata": {},
   "source": [
    "## Solvers"
   ]
  },
  {
   "cell_type": "code",
   "execution_count": 4,
   "metadata": {},
   "outputs": [],
   "source": [
    "# Cold Gas Thruster Solver\n",
    "RCSsolver = widgets.Button(description=\"RCS Nozzle\")\n",
    "outputRCS = widgets.Output()\n",
    "def RCSfunc(b):\n",
    "    with outputRCS:\n",
    "        p3=SIPressTable[SIAltTable.index(Alt_Select.value)]\n",
    "        t3=SITempTable[SIAltTable.index(Alt_Select.value)]\n",
    "        p1=ChamberPress.value\n",
    "        t1=t3\n",
    "        k=SpecificHeatRatio.value\n",
    "        R=GasConstant.value\n",
    "        p2=p3\n",
    "        p2p1=p2/p1\n",
    "        AR=(AreaRatio(k,p2p1))**-1\n",
    "        Tt=(2*t1)/(k+1)\n",
    "        v2=ExhaustVMet(k,R,t1,p2p1)\n",
    "        mdot=MassFlowRate.value\n",
    "        At=ThroatArea(mdot,p1,R,t1,k)\n",
    "        Ae=At/AR\n",
    "        Thrust=v2*mdot\n",
    "        Isp=SpecificImpulseV(v2,gravity.value)\n",
    "        \n",
    "        print('Throat Area: ','{0:.8f}'.format(At),' (m^2)\\n')\n",
    "        print('Exit Area: ','{0:.8f}'.format(Ae),' (m^2)\\n')\n",
    "        print('Throat Temperature: ','{0:.1f}'.format(Tt),' (K)\\n')\n",
    "        print('Exit Velocity: ','{0:.1f}'.format(v2),' (m/s)\\n')\n",
    "        print('Ideal Thrust: ','{0:.1f}'.format(Thrust),' (N)\\n')\n",
    "        print('Specific Impulse: ','{0:.1f}'.format(Isp),' (sec)\\n')\n",
    "        # Working design...\n",
    "        # Chamber Pressure: 792897 Pa\n",
    "        # Gas constsnt: 287 \n",
    "        # Chamber Temperature: SL Ambient\n",
    "        # Mass Flow Rate: 0.0996 kg/s\n",
    "        \n",
    "        \n",
    "\n",
    "RCSsolver.on_click(RCSfunc)\n",
    "\n",
    "# Super Sonic Nozzle Plotter (Given Exit Diameters and Such)\n",
    "NozzlePlotter = widgets.Button(description=\"Nozzle Plotter\")\n",
    "outputNozPlot = widgets.Output()\n",
    "\n",
    "def NozPlot(b):\n",
    "    with outputNozPlot:\n",
    "        # Pre-setting Data Point Arrays\n",
    "        X=[]\n",
    "        Y=[]\n",
    "        X15=[]\n",
    "        Y15=[]\n",
    "        \n",
    "        Rt=5.15          # in\n",
    "        L=121            # in\n",
    "        AR=77.5          # ~\n",
    "        AngleN=35        # Degrees\n",
    "        AngleE=8         # Place Holder To Check Plots (REMOVE)\n",
    "        \n",
    "        Re=Rt*(AR)**0.5  # in\n",
    "        \n",
    "        # Converging Nozzle\n",
    "        for i in range (-135,-90,1):\n",
    "            X.append(1.5*Rt*math.cos(math.radians(i)))\n",
    "            Y.append(1.5*Rt*math.sin(math.radians(i))+1.5*Rt+Rt)\n",
    "            X15.append(1.5*Rt*math.cos(math.radians(i)))\n",
    "            Y15.append(1.5*Rt*math.sin(math.radians(i))+1.5*Rt+Rt)\n",
    " \n",
    "        # Throat and Circular Divergence\n",
    "        for i in range (-90,(AngleN-90),1):\n",
    "            X.append(0.382*Rt*math.cos(math.radians(i)))\n",
    "            Y.append(0.382*Rt*math.sin(math.radians(i))+0.382*Rt+Rt)\n",
    "            \n",
    "        for i in range (-90,(15-90),1):    \n",
    "            X15.append(0.382*Rt*math.cos(math.radians(i)))\n",
    "            Y15.append(0.382*Rt*math.sin(math.radians(i))+0.382*Rt+Rt)\n",
    "        \n",
    "        # Bell Divergence\n",
    "        Ex=L\n",
    "        Ey=Re\n",
    "        Nx=0.382*Rt*math.cos(math.radians(AngleN-90))\n",
    "        Ny=0.382*Rt*math.sin(math.radians(AngleN-90))+0.382*Rt+Rt\n",
    "        m1=math.tan(math.radians(AngleN))\n",
    "        m2=math.tan(math.radians(AngleE))\n",
    "        C1=Ny-m1*Nx\n",
    "        C2=Ey-m2*Ex\n",
    "        Qx=(C2-C1)/(m1-m2)\n",
    "        Qy=(m1*C2-m2*C1)/(m1-m2)\n",
    "        \n",
    "        for t in range (0,100,1):\n",
    "            t=t/100\n",
    "            X.append(((1-t)**0.5)*Nx+2*(1-t)*t*Qx+(t**2)*Ex)\n",
    "            Y.append(((1-t)**0.5)*Ny+2*(1-t)*t*Qy+(t**2)*Ey)\n",
    "        \n",
    "        # Plotting the Bell Nozzle \n",
    "        NegY=[i*-1 for i in Y]\n",
    "        plt.xlabel('Length in Inches')\n",
    "        plt.ylabel('Width in Inches')\n",
    "        plt.plot(X,Y,color='tab:gray')\n",
    "        plt.plot(X,NegY,color='tab:gray')\n",
    "        plt.xlim([-20,130])\n",
    "        plt.ylim([-49,49])\n",
    "        plt.title('Rao Nozzle Plot')\n",
    "        plt.show()\n",
    "        \n",
    "        # 15 Degree Half Angle Divergence\n",
    "        Nx15=0.382*Rt*math.cos(math.radians(15-90))\n",
    "        Ny15=0.382*Rt*math.sin(math.radians(15-90))+0.382*Rt+Rt\n",
    "        \n",
    "        xtemp=int(round(Nx))\n",
    "        while math.tan(math.radians(15))*xtemp+Ny15 < Re:\n",
    "            X15.append(xtemp)\n",
    "            Y15.append(math.tan(math.radians(15))*xtemp+Ny15)\n",
    "            xtemp=xtemp+1\n",
    "            \n",
    "        # Plotting 15 degree Half Angle Nozzle\n",
    "        NegY15=[i*-1 for i in Y15]\n",
    "        plt.xlabel('Length in Inches')\n",
    "        plt.ylabel('Width in Inches')\n",
    "        plt.plot(X15,Y15,color='tab:gray')\n",
    "        plt.plot(X15,NegY15,color='tab:gray')\n",
    "        plt.xlim([-20,160])\n",
    "        plt.ylim([-58,58])\n",
    "        plt.title('15 Degree Angle Nozzle Plot')\n",
    "        plt.show()\n",
    "        \n",
    "        #print('Rao Nozzle X Points:\\n',X,'\\n')\n",
    "        #print('Rao Nozzle Y Points:\\n',Y,'\\n')\n",
    "        \n",
    "        #print('Conical Nozzle X Points:\\n',X15,'\\n')\n",
    "        #print('Conical Nozzle Y Points:\\n',Y15,'\\n')\n",
    "        \n",
    "NozzlePlotter.on_click(NozPlot)"
   ]
  },
  {
   "cell_type": "markdown",
   "metadata": {},
   "source": [
    "## GUI"
   ]
  },
  {
   "cell_type": "code",
   "execution_count": 5,
   "metadata": {
    "scrolled": false
   },
   "outputs": [
    {
     "data": {
      "application/vnd.jupyter.widget-view+json": {
       "model_id": "d5dd1e0ae491484fb804016167f302b5",
       "version_major": 2,
       "version_minor": 0
      },
      "text/plain": [
       "VBox(children=(ToggleButtons(description='System: ', options=('Metric', 'Imperial'), tooltips=('Description of…"
      ]
     },
     "metadata": {},
     "output_type": "display_data"
    },
    {
     "data": {
      "application/vnd.jupyter.widget-view+json": {
       "model_id": "0b4e83892b474547b351593a6feb1cdc",
       "version_major": 2,
       "version_minor": 0
      },
      "text/plain": [
       "HBox(children=(FloatText(value=9.81, description='Gravity: ', disabled=True, style=DescriptionStyle(descriptio…"
      ]
     },
     "metadata": {},
     "output_type": "display_data"
    },
    {
     "data": {
      "application/vnd.jupyter.widget-view+json": {
       "model_id": "3abfdfa1c9714059847b3fa597e547ae",
       "version_major": 2,
       "version_minor": 0
      },
      "text/plain": [
       "HBox(children=(FloatText(value=287.0, description='Gas Constant: ', style=DescriptionStyle(description_width='…"
      ]
     },
     "metadata": {},
     "output_type": "display_data"
    },
    {
     "data": {
      "application/vnd.jupyter.widget-view+json": {
       "model_id": "cabcffdc97d2487aa335119100843685",
       "version_major": 2,
       "version_minor": 0
      },
      "text/plain": [
       "Button(description='RCS Nozzle', style=ButtonStyle())"
      ]
     },
     "metadata": {},
     "output_type": "display_data"
    },
    {
     "data": {
      "application/vnd.jupyter.widget-view+json": {
       "model_id": "acb2fbc1d1b5486e93e23ad0e69e8a0d",
       "version_major": 2,
       "version_minor": 0
      },
      "text/plain": [
       "Output()"
      ]
     },
     "metadata": {},
     "output_type": "display_data"
    },
    {
     "data": {
      "application/vnd.jupyter.widget-view+json": {
       "model_id": "f6915ed2dc614af0bd638b5da090de3d",
       "version_major": 2,
       "version_minor": 0
      },
      "text/plain": [
       "Button(description='Nozzle Plotter', style=ButtonStyle())"
      ]
     },
     "metadata": {},
     "output_type": "display_data"
    },
    {
     "data": {
      "application/vnd.jupyter.widget-view+json": {
       "model_id": "f722379cb4e74ce7b2902f885ecc38c5",
       "version_major": 2,
       "version_minor": 0
      },
      "text/plain": [
       "Output()"
      ]
     },
     "metadata": {},
     "output_type": "display_data"
    },
    {
     "data": {
      "application/vnd.jupyter.widget-view+json": {
       "model_id": "1a51ce8bf313414ba460c02922d528d9",
       "version_major": 2,
       "version_minor": 0
      },
      "text/plain": [
       "Button(description='Homework 3', style=ButtonStyle())"
      ]
     },
     "metadata": {},
     "output_type": "display_data"
    },
    {
     "data": {
      "application/vnd.jupyter.widget-view+json": {
       "model_id": "c52501939c6145d7aef6dda1b7e72609",
       "version_major": 2,
       "version_minor": 0
      },
      "text/plain": [
       "Output()"
      ]
     },
     "metadata": {},
     "output_type": "display_data"
    },
    {
     "data": {
      "application/vnd.jupyter.widget-view+json": {
       "model_id": "d40df1548c14494d90f2ac75d623e1cb",
       "version_major": 2,
       "version_minor": 0
      },
      "text/plain": [
       "Button(description='Homework 4', style=ButtonStyle())"
      ]
     },
     "metadata": {},
     "output_type": "display_data"
    },
    {
     "data": {
      "application/vnd.jupyter.widget-view+json": {
       "model_id": "2c3e849eb30846f49bbcedd8681436eb",
       "version_major": 2,
       "version_minor": 0
      },
      "text/plain": [
       "Output()"
      ]
     },
     "metadata": {},
     "output_type": "display_data"
    },
    {
     "data": {
      "application/vnd.jupyter.widget-view+json": {
       "model_id": "5a10a62c796f426db794bf55a76bbf96",
       "version_major": 2,
       "version_minor": 0
      },
      "text/plain": [
       "Button(description='Homework 5', style=ButtonStyle())"
      ]
     },
     "metadata": {},
     "output_type": "display_data"
    },
    {
     "data": {
      "application/vnd.jupyter.widget-view+json": {
       "model_id": "90f8c617533b4941b9f91321f900d199",
       "version_major": 2,
       "version_minor": 0
      },
      "text/plain": [
       "Output()"
      ]
     },
     "metadata": {},
     "output_type": "display_data"
    },
    {
     "data": {
      "application/vnd.jupyter.widget-view+json": {
       "model_id": "028e81ddf1a945f0b4718afb0751040e",
       "version_major": 2,
       "version_minor": 0
      },
      "text/plain": [
       "Button(description='Homework 6', style=ButtonStyle())"
      ]
     },
     "metadata": {},
     "output_type": "display_data"
    },
    {
     "data": {
      "application/vnd.jupyter.widget-view+json": {
       "model_id": "d27b7d543e3e4f8c9ac15a90a444659d",
       "version_major": 2,
       "version_minor": 0
      },
      "text/plain": [
       "Output()"
      ]
     },
     "metadata": {},
     "output_type": "display_data"
    }
   ],
   "source": [
    "\n",
    "style = {'description_width': 'initial'}\n",
    "style=style\n",
    "\n",
    "gravity=widgets.FloatText(\n",
    "    value=9.81,\n",
    "    description='Gravity: ',\n",
    "    disabled=True,\n",
    "    style=style\n",
    ")\n",
    "\n",
    "ExitMach=widgets.FloatText(\n",
    "    value=1,\n",
    "    description='Mach at Exit: ',\n",
    "    disabled=False,\n",
    "    style=style\n",
    ")\n",
    "\n",
    "ChamberPress=widgets.FloatText(\n",
    "    value=965531,\n",
    "    description='Chamber Pressure: ',\n",
    "    disabled=False,\n",
    "    style=style\n",
    ")\n",
    "\n",
    "GasConstant=widgets.FloatText(\n",
    "    value=287,\n",
    "    description='Gas Constant: ',\n",
    "    disabled=False,\n",
    "    style=style\n",
    ")\n",
    "\n",
    "MassFlowRate=widgets.FloatText(\n",
    "    value=0.1172,\n",
    "    description='Mass Flow Rate: ',\n",
    "    disabled=False,\n",
    "    style=style\n",
    ")\n",
    "\n",
    "Alt_Select=widgets.SelectionSlider(options=AltTable,\n",
    "    value=0,\n",
    "    description='Craft Altitude: ',\n",
    "    disabled=False,\n",
    "    continuous_update=True,\n",
    "    orientation='horizontal',\n",
    "    readout=True,\n",
    "    style=style\n",
    ")\n",
    "\n",
    "Units_Select=widgets.ToggleButtons(\n",
    "    options=['Metric','Imperial'],\n",
    "    value='Metric',\n",
    "    description='System: ',\n",
    "    disabled=False,\n",
    "    button_style='', # 'success', 'info', 'warning', 'danger' or ''\n",
    "    tooltips=['Description of Metric', 'Description of Imperial'],\n",
    "    # icons=['check'] * 2\n",
    ")\n",
    "\n",
    "\n",
    "\n",
    "\n",
    "SpecificHeatRatio = widgets.FloatSlider(min=1.0 , max=1.70 , step=0.01 , \n",
    "                                        description=\"Ratio of Specific Heats: \", \n",
    "                                        value=1.4,\n",
    "                                        style=style\n",
    ")\n",
    "\n",
    "\n",
    "\n",
    "\n",
    "Alt_Select.observe(ChangeUnits , names=['options'])\n",
    "Units_Select.observe(ChangeUnits , names=['value'])\n",
    "\n",
    "\n",
    "\n",
    "DispWindows1=widgets.VBox([Units_Select , SpecificHeatRatio , Alt_Select],\n",
    "                        layout=widgets.Layout(overflow='visible',\n",
    "                        align_items='center',\n",
    "                        align_contents='center',)\n",
    ")\n",
    "\n",
    "DispWindows2=widgets.HBox([gravity, ExitMach, ChamberPress],\n",
    "                        layout=widgets.Layout(overflow='visible',\n",
    "                        align_items='center',\n",
    "                        align_contents='center',)\n",
    ")\n",
    "\n",
    "DispWindows3=widgets.HBox([GasConstant,MassFlowRate],\n",
    "                        layout=widgets.Layout(overflow='visible',\n",
    "                        align_items='center',\n",
    "                        align_contents='center',)\n",
    ")\n",
    "\n",
    "display(DispWindows1,DispWindows2,DispWindows3)\n",
    "\n",
    "display(RCSsolver, outputRCS)\n",
    "display(NozzlePlotter, outputNozPlot)\n",
    "display(homework3, outputhw3)\n",
    "display(homework4, outputhw4)\n",
    "display(homework5, outputhw5)\n",
    "display(homework6, outputhw6)\n",
    " \n",
    "\n",
    "\n",
    "\n"
   ]
  }
 ],
 "metadata": {
  "kernelspec": {
   "display_name": "Python 3",
   "language": "python",
   "name": "python3"
  },
  "language_info": {
   "codemirror_mode": {
    "name": "ipython",
    "version": 3
   },
   "file_extension": ".py",
   "mimetype": "text/x-python",
   "name": "python",
   "nbconvert_exporter": "python",
   "pygments_lexer": "ipython3",
   "version": "3.7.4"
  }
 },
 "nbformat": 4,
 "nbformat_minor": 2
}
